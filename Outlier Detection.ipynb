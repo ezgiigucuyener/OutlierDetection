{
 "cells": [
  {
   "cell_type": "markdown",
   "metadata": {},
   "source": [
    "#EZGİ GÜCÜYENER 17050111040\n",
    "#ASLIHAN ŞİMŞEK 16050111008"
   ]
  },
  {
   "cell_type": "code",
   "execution_count": 1,
   "metadata": {},
   "outputs": [],
   "source": [
    "import numpy as np\n",
    "import pandas as pd\n",
    "import matplotlib.pyplot as plt\n",
    "from sklearn.linear_model import LinearRegression\n",
    "data = pd.read_csv(\"data.csv\", sep = ',')\n",
    "data.columns=['x', 'y']"
   ]
  },
  {
   "cell_type": "code",
   "execution_count": 2,
   "metadata": {},
   "outputs": [],
   "source": [
    "X = data.iloc[:, 0].values.reshape(-1, 1)\n",
    "y = data.iloc[:, 1].values.reshape(-1, 1)\n",
    "lr = LinearRegression()\n",
    "lr.fit(X, y)\n",
    "y_pred = lr.predict(X)"
   ]
  },
  {
   "cell_type": "code",
   "execution_count": 3,
   "metadata": {
    "scrolled": true
   },
   "outputs": [
    {
     "data": {
      "image/png": "[encoded data removed]",
      "text/plain": [
       "<Figure size 432x288 with 1 Axes>"
      ]
     },
     "metadata": {
      "needs_background": "light"
     },
     "output_type": "display_data"
    }
   ],
   "source": [
    "#We plot our data after first training without removing outliers\n",
    "plt.scatter(X, y)\n",
    "plt.plot(X, y_pred, color='green', markerfacecolor='blue')\n",
    "plt.show()\n"
   ]
  },
  {
   "cell_type": "code",
   "execution_count": 4,
   "metadata": {},
   "outputs": [
    {
     "name": "stdout",
     "output_type": "stream",
     "text": [
      "[[3.33057220e+01]\n",
      " [1.33093416e+01]\n",
      " [2.63425976e+00]\n",
      " [3.80598984e+00]\n",
      " [2.67844782e+01]\n",
      " [4.91114880e+00]\n",
      " [9.41826405e+00]\n",
      " [4.75049093e-01]\n",
      " [1.00774459e+01]\n",
      " [2.93129471e+00]\n",
      " [1.53205882e+00]\n",
      " [4.06448376e+01]\n",
      " [1.11550607e-01]\n",
      " [1.40450938e+01]\n",
      " [1.22878814e+01]\n",
      " [1.03645588e+02]\n",
      " [1.45382670e+01]\n",
      " [4.73329095e+00]\n",
      " [5.66076873e-01]\n",
      " [2.53949846e+01]\n",
      " [2.03386551e+00]\n",
      " [1.47690705e+00]\n",
      " [1.13278700e+00]\n",
      " [3.60412328e-03]\n",
      " [1.18488481e+00]\n",
      " [1.02044518e+02]\n",
      " [1.31003457e+01]\n",
      " [9.52300499e+01]\n",
      " [9.13188990e+01]\n",
      " [6.45922806e-01]\n",
      " [9.20021037e+00]\n",
      " [2.64319304e+00]\n",
      " [9.03236799e+01]\n",
      " [2.92555672e-01]\n",
      " [6.94611640e-01]\n",
      " [5.83896707e+00]\n",
      " [2.93273932e+00]\n",
      " [1.02357026e+02]\n",
      " [3.90813378e+01]\n",
      " [4.34743542e+03]\n",
      " [7.30959117e+01]\n",
      " [1.88636236e+01]\n",
      " [7.97786350e+01]\n",
      " [2.95331658e+01]\n",
      " [1.26036029e+01]\n",
      " [5.97182287e-01]\n",
      " [2.32489304e-04]\n",
      " [1.16174318e+01]\n",
      " [5.10207937e+01]\n",
      " [1.07419333e+03]]\n"
     ]
    }
   ],
   "source": [
    "#To calculate the residuals we use predicted values and y values.\n",
    "residual = ((y - y_pred)**2)\n",
    "print(residual)"
   ]
  },
  {
   "cell_type": "code",
   "execution_count": 5,
   "metadata": {},
   "outputs": [
    {
     "data": {
      "text/plain": [
       "(50, 1)"
      ]
     },
     "execution_count": 5,
     "metadata": {},
     "output_type": "execute_result"
    }
   ],
   "source": [
    "residual.shape"
   ]
  },
  {
   "cell_type": "code",
   "execution_count": 6,
   "metadata": {},
   "outputs": [],
   "source": [
    "#Tukey Method \n",
    "import numpy as np\n",
    "import pandas as pd\n",
    "import matplotlib.pyplot as plt\n",
    "from pylab import rcParams\n",
    "%matplotlib inline\n",
    "rcParams['figure.figsize'] = 10, 8"
   ]
  },
  {
   "cell_type": "code",
   "execution_count": 7,
   "metadata": {},
   "outputs": [
    {
     "data": {
      "image/png": "[encoded data removed]",
      "text/plain": [
       "<Figure size 720x576 with 1 Axes>"
      ]
     },
     "metadata": {
      "needs_background": "light"
     },
     "output_type": "display_data"
    }
   ],
   "source": [
    "import pandas as pd \n",
    "residual = pd.DataFrame(residual.reshape(-1))\n",
    "bp = residual.boxplot(return_type = 'dict', whis = 3.0)"
   ]
  },
  {
   "cell_type": "code",
   "execution_count": 8,
   "metadata": {},
   "outputs": [
    {
     "data": {
      "text/html": [
       "<div>\n",
       "<style scoped>\n",
       "    .dataframe tbody tr th:only-of-type {\n",
       "        vertical-align: middle;\n",
       "    }\n",
       "\n",
       "    .dataframe tbody tr th {\n",
       "        vertical-align: top;\n",
       "    }\n",
       "\n",
       "    .dataframe thead th {\n",
       "        text-align: right;\n",
       "    }\n",
       "</style>\n",
       "<table border=\"1\" class=\"dataframe\">\n",
       "  <thead>\n",
       "    <tr style=\"text-align: right;\">\n",
       "      <th></th>\n",
       "      <th>0</th>\n",
       "    </tr>\n",
       "  </thead>\n",
       "  <tbody>\n",
       "    <tr>\n",
       "      <td>count</td>\n",
       "      <td>50.000000</td>\n",
       "    </tr>\n",
       "    <tr>\n",
       "      <td>mean</td>\n",
       "      <td>131.708561</td>\n",
       "    </tr>\n",
       "    <tr>\n",
       "      <td>std</td>\n",
       "      <td>627.055540</td>\n",
       "    </tr>\n",
       "    <tr>\n",
       "      <td>min</td>\n",
       "      <td>0.000232</td>\n",
       "    </tr>\n",
       "    <tr>\n",
       "      <td>25%</td>\n",
       "      <td>1.657510</td>\n",
       "    </tr>\n",
       "    <tr>\n",
       "      <td>50%</td>\n",
       "      <td>10.847439</td>\n",
       "    </tr>\n",
       "    <tr>\n",
       "      <td>75%</td>\n",
       "      <td>37.637434</td>\n",
       "    </tr>\n",
       "    <tr>\n",
       "      <td>max</td>\n",
       "      <td>4347.435425</td>\n",
       "    </tr>\n",
       "  </tbody>\n",
       "</table>\n",
       "</div>"
      ],
      "text/plain": [
       "                 0\n",
       "count    50.000000\n",
       "mean    131.708561\n",
       "std     627.055540\n",
       "min       0.000232\n",
       "25%       1.657510\n",
       "50%      10.847439\n",
       "75%      37.637434\n",
       "max    4347.435425"
      ]
     },
     "execution_count": 8,
     "metadata": {},
     "output_type": "execute_result"
    }
   ],
   "source": [
    "residual.describe()"
   ]
  },
  {
   "cell_type": "code",
   "execution_count": 9,
   "metadata": {},
   "outputs": [
    {
     "name": "stdout",
     "output_type": "stream",
     "text": [
      "             0\n",
      "0    33.305722\n",
      "1    13.309342\n",
      "2     2.634260\n",
      "3     3.805990\n",
      "4    26.784478\n",
      "5     4.911149\n",
      "6     9.418264\n",
      "7     0.475049\n",
      "8    10.077446\n",
      "9     2.931295\n",
      "10    1.532059\n",
      "11   40.644838\n",
      "12    0.111551\n",
      "13   14.045094\n",
      "14   12.287881\n",
      "15  103.645588\n",
      "16   14.538267\n",
      "17    4.733291\n",
      "18    0.566077\n",
      "19   25.394985\n",
      "20    2.033866\n",
      "21    1.476907\n",
      "22    1.132787\n",
      "23    0.003604\n",
      "24    1.184885\n",
      "25  102.044518\n",
      "26   13.100346\n",
      "27   95.230050\n",
      "28   91.318899\n",
      "29    0.645923\n",
      "30    9.200210\n",
      "31    2.643193\n",
      "32   90.323680\n",
      "33    0.292556\n",
      "34    0.694612\n",
      "35    5.838967\n",
      "36    2.932739\n",
      "37  102.357026\n",
      "38   39.081338\n",
      "40   73.095912\n",
      "41   18.863624\n",
      "42   79.778635\n",
      "43   29.533166\n",
      "44   12.603603\n",
      "45    0.597182\n",
      "46    0.000232\n",
      "47   11.617432\n",
      "48   51.020794\n"
     ]
    }
   ],
   "source": [
    "q1 = residual.quantile(0.25)\n",
    "q3 = residual.quantile(0.75)\n",
    "iqr = q3-q1 #Interquartile range\n",
    "residual_outremoved = residual[~((residual < (q1 - 3.0 * iqr)) | (residual > (q3 + 3.0 * iqr))).any(axis=1)]\n",
    "residual_outremoved.shape\n",
    "print(residual_outremoved)"
   ]
  },
  {
   "cell_type": "code",
   "execution_count": 10,
   "metadata": {},
   "outputs": [
    {
     "name": "stdout",
     "output_type": "stream",
     "text": [
      "[[1074.19333007]\n",
      " [4347.43542451]]\n"
     ]
    }
   ],
   "source": [
    "a=np.array(residual)\n",
    "b=np.array(residual_outremoved)\n",
    "\n",
    "a_rows = a.view([('', a.dtype)] * a.shape[1])\n",
    "b_rows = b.view([('', b.dtype)] * b.shape[1])\n",
    "\n",
    "c = np.setdiff1d(a_rows, b_rows).view(a.dtype).reshape(-1, a.shape[1])\n",
    "\n",
    "print(c)"
   ]
  },
  {
   "cell_type": "code",
   "execution_count": 11,
   "metadata": {},
   "outputs": [
    {
     "name": "stdout",
     "output_type": "stream",
     "text": [
      "49 index of  [1074.19333007]\n",
      "39 index of  [4347.43542451]\n"
     ]
    }
   ],
   "source": [
    "outlier_1=c[0]\n",
    "outlier_2=c[1]\n",
    "first=(np.array(residual)).tolist().index(outlier_1)\n",
    "second=(np.array(residual)).tolist().index(outlier_2)\n",
    "print(first,\"index of \",outlier_1)\n",
    "print(second,\"index of \",outlier_2)"
   ]
  },
  {
   "cell_type": "code",
   "execution_count": 12,
   "metadata": {},
   "outputs": [],
   "source": [
    "new_X=np.delete(X, first, 0)\n",
    "new_X=np.delete(new_X, second, 0)\n",
    "\n",
    "new_y=np.delete(y, first, 0)\n",
    "new_y=np.delete(new_y, second, 0)\n"
   ]
  },
  {
   "cell_type": "code",
   "execution_count": 13,
   "metadata": {},
   "outputs": [],
   "source": [
    "new_X=np.array(new_X) \n",
    "new_y=np.array(new_y) \n",
    "\n",
    "outliers_X=[float(X[39]),float(X[49])]\n",
    "outliers_y=[float(y[39]),float(y[49])]\n"
   ]
  },
  {
   "cell_type": "code",
   "execution_count": 14,
   "metadata": {},
   "outputs": [
    {
     "data": {
      "image/png": "[encoded data removed]",
      "text/plain": [
       "<Figure size 720x576 with 1 Axes>"
      ]
     },
     "metadata": {
      "needs_background": "light"
     },
     "output_type": "display_data"
    }
   ],
   "source": [
    "plt.scatter(new_X, new_y, color='green')\n",
    "plt.plot(X, y_pred, color='blue')\n",
    "plt.scatter(outliers_X, outliers_y, color='red')\n",
    "\n",
    "plt.show()"
   ]
  },
  {
   "cell_type": "code",
   "execution_count": 15,
   "metadata": {},
   "outputs": [],
   "source": [
    "lr2 = LinearRegression()\n",
    "lr2.fit(new_X, new_y)\n",
    "y_new_pred = lr2.predict(new_X)\n",
    "\n"
   ]
  },
  {
   "cell_type": "code",
   "execution_count": 16,
   "metadata": {},
   "outputs": [
    {
     "data": {
      "image/png": "[encoded data removed]",
      "text/plain": [
       "<Figure size 720x576 with 1 Axes>"
      ]
     },
     "metadata": {
      "needs_background": "light"
     },
     "output_type": "display_data"
    }
   ],
   "source": [
    "#We plot our data after first training with removing outliers\n",
    "plt.scatter(new_X, new_y, color='green')\n",
    "plt.plot(new_X, y_new_pred, color='blue')\n",
    "plt.scatter(outliers_X, outliers_y, color='red')\n",
    "plt.show()\n"
   ]
  }
 ],
 "metadata": {
  "kernelspec": {
   "display_name": "Python 3",
   "language": "python",
   "name": "python3"
  },
  "language_info": {
   "codemirror_mode": {
    "name": "ipython",
    "version": 3
   },
   "file_extension": ".py",
   "mimetype": "text/x-python",
   "name": "python",
   "nbconvert_exporter": "python",
   "pygments_lexer": "ipython3",
   "version": "3.7.4"
  }
 },
 "nbformat": 4,
 "nbformat_minor": 2
}
